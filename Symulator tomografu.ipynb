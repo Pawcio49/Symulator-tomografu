{
 "cells": [
  {
   "cell_type": "markdown",
   "metadata": {
    "datalore": {
     "hide_input_from_viewers": true,
     "hide_output_from_viewers": true,
     "node_id": "D2YAk0hvm6bilwmjVsA9Bb",
     "type": "MD"
    }
   },
   "source": [
    "# Imports"
   ]
  },
  {
   "cell_type": "code",
   "execution_count": 1,
   "metadata": {
    "datalore": {
     "hide_input_from_viewers": true,
     "hide_output_from_viewers": true,
     "node_id": "3OcPLZse6BFenYv0VJaB3T",
     "type": "CODE"
    }
   },
   "outputs": [],
   "source": [
    "import imageio as imageio\n",
    "import numpy as np\n",
    "import matplotlib.pyplot as plt\n",
    "from skimage import color\n",
    "import math\n",
    "from ipywidgets import interact, widgets\n",
    "from ipywidgets import HBox, VBox\n",
    "from IPython.display import display\n",
    "from pydicom.dataset import Dataset, FileDataset\n",
    "from pydicom.uid import ExplicitVRLittleEndian\n",
    "import pydicom._storage_sopclass_uids\n",
    "\n",
    "from skimage.util import img_as_ubyte\n",
    "from skimage.exposure import rescale_intensity\n",
    "from pydicom import dcmread"
   ]
  },
  {
   "cell_type": "markdown",
   "metadata": {
    "datalore": {
     "hide_input_from_viewers": true,
     "hide_output_from_viewers": true,
     "node_id": "bcsn1w31tJ77ii8ZArrWSH",
     "type": "MD"
    }
   },
   "source": [
    "# Read image and convert to gray scale\n",
    "Enter image path"
   ]
  },
  {
   "cell_type": "code",
   "execution_count": 2,
   "metadata": {
    "datalore": {
     "hide_input_from_viewers": true,
     "hide_output_from_viewers": true,
     "node_id": "lvtKJXjaK4lTOyDtl9MhsZ",
     "type": "CODE"
    }
   },
   "outputs": [],
   "source": [
    "image_path = 'tomograf-zdjecia/Shepp_logan.jpg'"
   ]
  },
  {
   "cell_type": "code",
   "execution_count": 3,
   "metadata": {
    "datalore": {
     "hide_input_from_viewers": true,
     "hide_output_from_viewers": true,
     "node_id": "nvcgVt9PeKoU4xsyjFb3Go",
     "type": "CODE"
    },
    "scrolled": true
   },
   "outputs": [
    {
     "data": {
      "image/png": "[encoded data removed]",
      "text/plain": [
       "<Figure size 432x288 with 1 Axes>"
      ]
     },
     "metadata": {
      "needs_background": "light"
     },
     "output_type": "display_data"
    }
   ],
   "source": [
    "input_image_color = imageio.imread(image_path)\n",
    "input_image = color.rgb2gray(input_image_color)\n",
    "plt.imshow(input_image, cmap='gray')\n",
    "input_image_height, input_image_width = input_image.shape"
   ]
  },
  {
   "cell_type": "markdown",
   "metadata": {
    "datalore": {
     "hide_input_from_viewers": true,
     "hide_output_from_viewers": true,
     "node_id": "K014C8ZsE2VVJZocdtRYQK",
     "type": "MD"
    }
   },
   "source": [
    "# Radon transform\n",
    "Enter data below"
   ]
  },
  {
   "cell_type": "code",
   "execution_count": 4,
   "metadata": {
    "datalore": {
     "hide_input_from_viewers": true,
     "hide_output_from_viewers": true,
     "node_id": "S44PVSnBMnrSdfzJ49Iy5z",
     "type": "CODE"
    }
   },
   "outputs": [],
   "source": [
    "emitters_step = 1\n",
    "detectors_amount = 60\n",
    "detectors_spread = 270"
   ]
  },
  {
   "cell_type": "markdown",
   "metadata": {
    "datalore": {
     "hide_input_from_viewers": true,
     "hide_output_from_viewers": true,
     "node_id": "v8qcJJNEsFJlmcPHUsofxh",
     "type": "MD"
    }
   },
   "source": [
    "Generate sinogram height and width"
   ]
  },
  {
   "cell_type": "code",
   "execution_count": 5,
   "metadata": {
    "datalore": {
     "hide_input_from_viewers": true,
     "hide_output_from_viewers": true,
     "node_id": "kZZgcxWbnt7cqiLsE3nEmq",
     "type": "CODE"
    }
   },
   "outputs": [],
   "source": [
    "emitters_start_degree = 0\n",
    "emitters_end_degree = 360 - emitters_step\n",
    "sinogram_height = math.ceil((emitters_end_degree - emitters_start_degree)/emitters_step)+1\n",
    "sinogram_width = detectors_amount"
   ]
  },
  {
   "cell_type": "markdown",
   "metadata": {
    "datalore": {
     "hide_input_from_viewers": true,
     "hide_output_from_viewers": true,
     "node_id": "9k2AJz8pLtoJH5GxkDvvYb",
     "type": "MD"
    }
   },
   "source": [
    "Create list of angles"
   ]
  },
  {
   "cell_type": "code",
   "execution_count": 6,
   "metadata": {
    "datalore": {
     "hide_input_from_viewers": true,
     "hide_output_from_viewers": true,
     "node_id": "vIe5g6vJMuLpI0tscNjJb0",
     "type": "CODE"
    }
   },
   "outputs": [],
   "source": [
    "endpoint_angle = (sinogram_height-1) * emitters_step\n",
    "angles = np.linspace(start=emitters_start_degree, stop=endpoint_angle, num=sinogram_height, endpoint=True)"
   ]
  },
  {
   "cell_type": "markdown",
   "metadata": {
    "datalore": {
     "hide_input_from_viewers": true,
     "hide_output_from_viewers": true,
     "node_id": "RtNXvaq0Yt2wAJ3dtYGUag",
     "type": "MD"
    }
   },
   "source": [
    "Convert angles to radians"
   ]
  },
  {
   "cell_type": "code",
   "execution_count": 7,
   "metadata": {
    "datalore": {
     "hide_input_from_viewers": true,
     "hide_output_from_viewers": true,
     "node_id": "vteO0pHbAcl6kM6djpuJcS",
     "type": "CODE"
    }
   },
   "outputs": [],
   "source": [
    "radian_angles = np.radians(angles)\n",
    "radian_emitters_step = np.radians(emitters_step)\n",
    "radian_spread = np.radians(detectors_spread)\n",
    "radian_180 = np.radians(180)"
   ]
  },
  {
   "cell_type": "markdown",
   "metadata": {
    "datalore": {
     "hide_input_from_viewers": true,
     "hide_output_from_viewers": true,
     "node_id": "D9ynJ7Js8asCoMF4r052x6",
     "type": "MD"
    }
   },
   "source": [
    "\n",
    "Calculate distance to center of image in x and y axises"
   ]
  },
  {
   "cell_type": "code",
   "execution_count": 8,
   "metadata": {
    "datalore": {
     "hide_input_from_viewers": true,
     "hide_output_from_viewers": true,
     "node_id": "GmKL1XC5j44xbrDFwKGTmJ",
     "type": "CODE"
    }
   },
   "outputs": [],
   "source": [
    "center_x = (input_image_width-1)/2\n",
    "center_y = (input_image_height-1)/2"
   ]
  },
  {
   "cell_type": "markdown",
   "metadata": {
    "datalore": {
     "hide_input_from_viewers": true,
     "hide_output_from_viewers": true,
     "node_id": "8Mjhdc9fifBvljMDtcbckL",
     "type": "MD"
    }
   },
   "source": [
    "Calculate radius"
   ]
  },
  {
   "cell_type": "code",
   "execution_count": 9,
   "metadata": {
    "datalore": {
     "hide_input_from_viewers": true,
     "hide_output_from_viewers": true,
     "node_id": "mswPghC3MuzRDAh2ElDK0C",
     "type": "CODE"
    }
   },
   "outputs": [],
   "source": [
    "radius = min(center_x, center_y)"
   ]
  },
  {
   "cell_type": "markdown",
   "metadata": {
    "datalore": {
     "hide_input_from_viewers": true,
     "hide_output_from_viewers": true,
     "node_id": "dFc3wCcgXY3PEWsUp8fmn7",
     "type": "MD"
    }
   },
   "source": [
    "Bresenham's line algorithm"
   ]
  },
  {
   "cell_type": "code",
   "execution_count": 10,
   "metadata": {
    "datalore": {
     "hide_input_from_viewers": true,
     "hide_output_from_viewers": true,
     "node_id": "JJPsS72E25lA02VboX3WzL",
     "type": "CODE"
    }
   },
   "outputs": [],
   "source": [
    "def bresenham_line(x1, y1, x2, y2):\n",
    "    coordinates = []\n",
    "    # zmienne pomocnicze\n",
    "    x = x1\n",
    "    y = y1\n",
    "    # ustalenie kierunku rysowania\n",
    "    if x1 < x2:\n",
    "        xi = 1\n",
    "        dx = x2 - x1\n",
    "    else:\n",
    "        xi = -1\n",
    "        dx = x1 - x2\n",
    "    # ustalenie kierunku rysowania\n",
    "    if y1 < y2:\n",
    "        yi = 1\n",
    "        dy = y2 - y1\n",
    "    else:\n",
    "        yi = -1\n",
    "        dy = y1 - y2\n",
    "    # pierwszy piksel\n",
    "    coordinates.append([x, y])\n",
    "    # oś wiodąca OX\n",
    "    if dx > dy:\n",
    "        ai = (dy - dx) * 2\n",
    "        bi = dy * 2\n",
    "        d = bi - dx\n",
    "        # pętla po kolejnych x\n",
    "        while x != x2:\n",
    "            # test współczynnika\n",
    "            if d >= 0:\n",
    "                x += xi\n",
    "                y += yi\n",
    "                d += ai\n",
    "            else:\n",
    "                d += bi\n",
    "                x += xi\n",
    "            coordinates.append([x, y])\n",
    "    # oś wiodąca OY\n",
    "    else:\n",
    "        ai = (dx - dy) * 2\n",
    "        bi = dx * 2\n",
    "        d = bi - dy\n",
    "        # pętla po kolejnych y\n",
    "        while y != y2:\n",
    "            # test współczynnika\n",
    "            if d >= 0:\n",
    "                x += xi\n",
    "                y += yi\n",
    "                d += ai\n",
    "            else:\n",
    "                d += bi\n",
    "                y += yi\n",
    "            coordinates.append([x, y])\n",
    "    \n",
    "    return coordinates"
   ]
  },
  {
   "cell_type": "markdown",
   "metadata": {},
   "source": [
    "Type whether filter should be active"
   ]
  },
  {
   "cell_type": "code",
   "execution_count": 11,
   "metadata": {},
   "outputs": [],
   "source": [
    "active_filter = True"
   ]
  },
  {
   "cell_type": "markdown",
   "metadata": {
    "datalore": {
     "hide_input_from_viewers": true,
     "hide_output_from_viewers": true,
     "node_id": "6dontYY38qfRaaLXcbaHyr",
     "type": "MD"
    }
   },
   "source": [
    "Create sinogram function"
   ]
  },
  {
   "cell_type": "code",
   "execution_count": 12,
   "metadata": {
    "datalore": {
     "hide_input_from_viewers": true,
     "hide_output_from_viewers": true,
     "node_id": "h9fkhvTy9HveP3RVxcMyiI",
     "type": "CODE"
    }
   },
   "outputs": [],
   "source": [
    "def calculate_sinogram(sinogram_height=sinogram_height, sinogram_width=sinogram_width, input_image=input_image,\n",
    "                       radian_angles=radian_angles, radian_spread=radian_spread, detectors_amount=detectors_amount):\n",
    "    sinogram = np.zeros((sinogram_height, sinogram_width))\n",
    "    for sinogram_y, radian_angle in enumerate(radian_angles[:sinogram_height]):\n",
    "        radian_emitter_angles = np.linspace(start=radian_angle-radian_spread/2, stop=radian_angle+radian_spread/2,\n",
    "                                            num=detectors_amount, endpoint=True)\n",
    "        x_emitter = round(center_x - np.cos(radian_angle) * radius)\n",
    "        y_emitter = round(center_y - np.sin(radian_angle) * radius)\n",
    "        for sinogram_x, radian_emitter_angle in enumerate(radian_emitter_angles):\n",
    "            x_detector = round(center_x - np.cos(radian_emitter_angle+radian_180) * radius)\n",
    "            y_detector = round(center_y - np.sin(radian_emitter_angle+radian_180) * radius)\n",
    "            index_coordinates = bresenham_line(x_emitter, y_emitter, x_detector, y_detector)\n",
    "            sum_values = 0\n",
    "            for x_index, y_index in index_coordinates:\n",
    "                sum_values += input_image[y_index][x_index]\n",
    "            value = sum_values/len(index_coordinates)\n",
    "            sinogram[sinogram_y][sinogram_x] = value\n",
    "    \n",
    "    return sinogram"
   ]
  },
  {
   "cell_type": "markdown",
   "metadata": {},
   "source": [
    "Create sinogram function with active filter"
   ]
  },
  {
   "cell_type": "code",
   "execution_count": 13,
   "metadata": {},
   "outputs": [],
   "source": [
    "def calculate_sinogram_with_filter(sinogram_height=sinogram_height, sinogram_width=sinogram_width, input_image=input_image,\n",
    "                       radian_angles=radian_angles, radian_spread=radian_spread, detectors_amount=detectors_amount):\n",
    "    \n",
    "    sinogram = calculate_sinogram(sinogram_height, sinogram_width, input_image, radian_angles, radian_spread, detectors_amount)\n",
    "    sinogram_with_filter = np.zeros((sinogram_height, sinogram_width))\n",
    "    for i in range(sinogram_height):\n",
    "        for j in range(sinogram_width):\n",
    "            new_x = 0\n",
    "            mask_half = 15\n",
    "            start_index = j - mask_half\n",
    "            if start_index<0:\n",
    "                start_index=0\n",
    "            end_index = j + mask_half\n",
    "            if end_index>=sinogram_width:\n",
    "                end_index=sinogram_width-1\n",
    "            for k, x in enumerate(sinogram[i,start_index:end_index]):\n",
    "                index = start_index+k-j\n",
    "                if index == 0:\n",
    "                    weight = 1\n",
    "                elif index%2 == 0:\n",
    "                    weight = 0\n",
    "                else:\n",
    "                    weight = -4/(math.pi**2 * index**2)\n",
    "                new_x += x*weight\n",
    "            sinogram_with_filter[i][j] = new_x\n",
    "    return sinogram_with_filter"
   ]
  },
  {
   "cell_type": "markdown",
   "metadata": {},
   "source": [
    "Visualize sinogram"
   ]
  },
  {
   "cell_type": "code",
   "execution_count": 14,
   "metadata": {},
   "outputs": [
    {
     "data": {
      "application/vnd.jupyter.widget-view+json": {
       "model_id": "a3f8e1a2f6d842af9112a69a9b65b189",
       "version_major": 2,
       "version_minor": 0
      },
      "text/plain": [
       "interactive(children=(IntSlider(value=360, description='Step', max=360), Output()), _dom_classes=('widget-inte…"
      ]
     },
     "metadata": {},
     "output_type": "display_data"
    }
   ],
   "source": [
    "@widgets.interact(Step=(0,sinogram_height))\n",
    "def visualize_sinogram(Step=sinogram_height):\n",
    "    if active_filter:\n",
    "        sinogram_to_visualize = calculate_sinogram_with_filter(Step)\n",
    "    else:\n",
    "        sinogram_to_visualize = calculate_sinogram(Step)\n",
    "    plt.imshow(sinogram_to_visualize, cmap=\"gray\")"
   ]
  },
  {
   "cell_type": "markdown",
   "metadata": {},
   "source": [
    "Create sinogram"
   ]
  },
  {
   "cell_type": "code",
   "execution_count": 15,
   "metadata": {},
   "outputs": [],
   "source": [
    "if active_filter:\n",
    "    sinogram = calculate_sinogram_with_filter()\n",
    "else:\n",
    "    sinogram = calculate_sinogram()"
   ]
  },
  {
   "cell_type": "markdown",
   "metadata": {},
   "source": [
    "# Reverse Radon transform"
   ]
  },
  {
   "cell_type": "markdown",
   "metadata": {},
   "source": [
    "Create output image function"
   ]
  },
  {
   "cell_type": "code",
   "execution_count": 16,
   "metadata": {},
   "outputs": [],
   "source": [
    "def calculate_output_image(sinogram_height=sinogram_height, radian_angles=radian_angles, radian_spread=radian_spread,\n",
    "                           detectors_amount=detectors_amount, sinogram=sinogram):\n",
    "    output_image = np.zeros((input_image_height, input_image_width))\n",
    "    amount_of_values = np.zeros((input_image_height, input_image_width))\n",
    "    for sinogram_y, radian_angle in enumerate(radian_angles[:sinogram_height]):\n",
    "        radian_emitter_angles = np.linspace(start=radian_angle-radian_spread/2, stop=radian_angle+radian_spread/2,\n",
    "                                            num=detectors_amount, endpoint=True)\n",
    "        x_emitter = round(center_x - np.cos(radian_angle) * radius)\n",
    "        y_emitter = round(center_y - np.sin(radian_angle) * radius)\n",
    "        for sinogram_x, radian_emitter_angle in enumerate(radian_emitter_angles):\n",
    "            x_detector = round(center_x - np.cos(radian_emitter_angle+radian_180) * radius)\n",
    "            y_detector = round(center_y - np.sin(radian_emitter_angle+radian_180) * radius)\n",
    "            index_coordinates = bresenham_line(x_emitter, y_emitter, x_detector, y_detector)\n",
    "            for x_index, y_index in index_coordinates:\n",
    "                output_image[y_index][x_index] += sinogram[sinogram_y][sinogram_x]\n",
    "                amount_of_values[y_index][x_index] += 1\n",
    "\n",
    "    for i in range(input_image_height):\n",
    "        for j in range(input_image_width):\n",
    "            if amount_of_values[i][j]>1:\n",
    "                output_image[i][j] = output_image[i][j]/amount_of_values[i][j]\n",
    "    \n",
    "    return output_image"
   ]
  },
  {
   "cell_type": "markdown",
   "metadata": {},
   "source": [
    "Visualize output image"
   ]
  },
  {
   "cell_type": "code",
   "execution_count": 17,
   "metadata": {},
   "outputs": [
    {
     "data": {
      "application/vnd.jupyter.widget-view+json": {
       "model_id": "cb8fe36cabcd49afa4dbed136799ef6f",
       "version_major": 2,
       "version_minor": 0
      },
      "text/plain": [
       "interactive(children=(IntSlider(value=360, description='Step', max=360), Output()), _dom_classes=('widget-inte…"
      ]
     },
     "metadata": {},
     "output_type": "display_data"
    }
   ],
   "source": [
    "@widgets.interact(Step=(0,sinogram_height))\n",
    "def visualize_output_image(Step=sinogram_height):\n",
    "    output_image_to_visualize = calculate_output_image(Step)\n",
    "    plt.imshow(output_image_to_visualize, cmap=\"gray\")"
   ]
  },
  {
   "cell_type": "markdown",
   "metadata": {},
   "source": [
    "Create output image"
   ]
  },
  {
   "cell_type": "code",
   "execution_count": 18,
   "metadata": {},
   "outputs": [],
   "source": [
    "output_image = calculate_output_image()"
   ]
  },
  {
   "cell_type": "markdown",
   "metadata": {},
   "source": [
    "# Save image as dicom"
   ]
  },
  {
   "cell_type": "markdown",
   "metadata": {},
   "source": [
    "Create patient_data"
   ]
  },
  {
   "cell_type": "code",
   "execution_count": 19,
   "metadata": {},
   "outputs": [],
   "source": [
    "patient_data = dict()"
   ]
  },
  {
   "cell_type": "markdown",
   "metadata": {},
   "source": [
    "Enter data about patient and image"
   ]
  },
  {
   "cell_type": "code",
   "execution_count": 20,
   "metadata": {},
   "outputs": [],
   "source": [
    "patient_data[\"PatientName\"] = \"Nowak\"\n",
    "patient_data[\"PatientID\"] = \"2423454\"\n",
    "patient_data[\"ImageComments\"] = \"It is fine\"\n",
    "file_name = \"test_dicom.dcm\""
   ]
  },
  {
   "cell_type": "markdown",
   "metadata": {},
   "source": [
    "Save as dicom function"
   ]
  },
  {
   "cell_type": "code",
   "execution_count": 21,
   "metadata": {},
   "outputs": [],
   "source": [
    "def convert_image_to_ubyte(img):\n",
    "    return img_as_ubyte(rescale_intensity(img, out_range=(0.0, 1.0)))\n",
    "\n",
    "def save_as_dicom(file_name, img, patient_data):\n",
    "    img_converted = convert_image_to_ubyte(img)\n",
    "    \n",
    "    # Populate required values for file meta information\n",
    "    meta = Dataset()\n",
    "    meta.MediaStorageSOPClassUID = pydicom._storage_sopclass_uids.CTImageStorage\n",
    "    meta.MediaStorageSOPInstanceUID = pydicom.uid.generate_uid()\n",
    "    meta.TransferSyntaxUID = pydicom.uid.ExplicitVRLittleEndian  \n",
    "\n",
    "    ds = FileDataset(None, {}, preamble=b\"\\0\" * 128)\n",
    "    ds.file_meta = meta\n",
    "\n",
    "    ds.is_little_endian = True\n",
    "    ds.is_implicit_VR = False\n",
    "\n",
    "    ds.SOPClassUID = pydicom._storage_sopclass_uids.CTImageStorage\n",
    "    ds.SOPInstanceUID = meta.MediaStorageSOPInstanceUID\n",
    "    \n",
    "    ds.PatientName = patient_data[\"PatientName\"]\n",
    "    ds.PatientID = patient_data[\"PatientID\"]\n",
    "    ds.ImageComments = patient_data[\"ImageComments\"]\n",
    "    \n",
    "\n",
    "    ds.Modality = \"CT\"\n",
    "    ds.SeriesInstanceUID = pydicom.uid.generate_uid()\n",
    "    ds.StudyInstanceUID = pydicom.uid.generate_uid()\n",
    "    ds.FrameOfReferenceUID = pydicom.uid.generate_uid()\n",
    "\n",
    "    ds.BitsStored = 8\n",
    "    ds.BitsAllocated = 8\n",
    "    ds.SamplesPerPixel = 1\n",
    "    ds.HighBit = 7\n",
    "\n",
    "    ds.ImagesInAcquisition = 1\n",
    "    ds.InstanceNumber = 1\n",
    "\n",
    "    ds.Rows, ds.Columns = img_converted.shape\n",
    "\n",
    "    ds.ImageType = r\"ORIGINAL\\PRIMARY\\AXIAL\"\n",
    "\n",
    "    ds.PhotometricInterpretation = \"MONOCHROME2\"\n",
    "    ds.PixelRepresentation = 0\n",
    "\n",
    "    pydicom.dataset.validate_file_meta(ds.file_meta, enforce_standard=True)\n",
    "\n",
    "    ds.PixelData = img_converted.tobytes()\n",
    "\n",
    "    ds.save_as(file_name, write_like_original=False)"
   ]
  },
  {
   "cell_type": "markdown",
   "metadata": {},
   "source": [
    "Save as dicom"
   ]
  },
  {
   "cell_type": "code",
   "execution_count": 22,
   "metadata": {},
   "outputs": [],
   "source": [
    "save_as_dicom(file_name, output_image, patient_data)"
   ]
  },
  {
   "cell_type": "markdown",
   "metadata": {},
   "source": [
    "Read dicom"
   ]
  },
  {
   "cell_type": "code",
   "execution_count": 23,
   "metadata": {},
   "outputs": [
    {
     "data": {
      "image/png": "[encoded data removed]",
      "text/plain": [
       "<Figure size 432x288 with 1 Axes>"
      ]
     },
     "metadata": {
      "needs_background": "light"
     },
     "output_type": "display_data"
    },
    {
     "name": "stdout",
     "output_type": "stream",
     "text": [
      "PatientName: Nowak\n",
      "PatientID: 2423454\n",
      "ImageComments: It is fine\n"
     ]
    }
   ],
   "source": [
    "dicom_file = pydicom.read_file(file_name)\n",
    "pixel_data = dicom_file.pixel_array\n",
    "plt.imshow(pixel_data, cmap='gray')\n",
    "plt.show()\n",
    "print(\"PatientName:\", dicom_file.PatientName)\n",
    "print(\"PatientID:\", dicom_file.PatientID)\n",
    "print(\"ImageComments:\", dicom_file.ImageComments)"
   ]
  },
  {
   "cell_type": "markdown",
   "metadata": {},
   "source": [
    "# Statistical analysis - root mean square error"
   ]
  },
  {
   "cell_type": "markdown",
   "metadata": {},
   "source": [
    "Normalize output_image function"
   ]
  },
  {
   "cell_type": "code",
   "execution_count": 24,
   "metadata": {},
   "outputs": [],
   "source": [
    "def normalize_output_image(output_image):\n",
    "    min_value_output_image = np.min(output_image)\n",
    "    max_value_output_image = np.max(output_image)\n",
    "    normalized_output_image = (output_image - min_value_output_image) / (max_value_output_image - min_value_output_image)\n",
    "    return normalized_output_image"
   ]
  },
  {
   "cell_type": "markdown",
   "metadata": {},
   "source": [
    "Calculate root mean square error function"
   ]
  },
  {
   "cell_type": "code",
   "execution_count": 25,
   "metadata": {},
   "outputs": [],
   "source": [
    "def calculate_rmse(input_img, output_img):\n",
    "    normalized_output_img = normalize_output_image(output_img)\n",
    "    mse = 0\n",
    "    for i in range(input_img.shape[0]):\n",
    "        for j in range(input_img.shape[1]):\n",
    "            mse += (input_img[i, j] - normalized_output_img[i, j]) ** 2\n",
    "    mse = mse / (input_image_height * input_image_width)\n",
    "    rmse = mse ** 0.5\n",
    "    return rmse"
   ]
  },
  {
   "cell_type": "markdown",
   "metadata": {},
   "source": [
    "Calculate RMSE"
   ]
  },
  {
   "cell_type": "code",
   "execution_count": 26,
   "metadata": {},
   "outputs": [
    {
     "data": {
      "text/plain": [
       "0.2517756726904529"
      ]
     },
     "execution_count": 26,
     "metadata": {},
     "output_type": "execute_result"
    }
   ],
   "source": [
    "rmse = calculate_rmse(input_image, output_image)\n",
    "rmse"
   ]
  },
  {
   "cell_type": "markdown",
   "metadata": {},
   "source": [
    "Process input image with input parameters and return rmse"
   ]
  },
  {
   "cell_type": "code",
   "execution_count": 27,
   "metadata": {},
   "outputs": [],
   "source": [
    "def process_input_image(file_name, emitters_step=2, detectors_amount=180, detectors_spread=180):\n",
    "    emitters_start_degree = 0\n",
    "    emitters_end_degree = 360 - emitters_step\n",
    "    sinogram_height = math.ceil((emitters_end_degree - emitters_start_degree)/emitters_step)+1\n",
    "    sinogram_width = detectors_amount\n",
    "\n",
    "    endpoint_angle = (sinogram_height-1) * emitters_step\n",
    "    angles = np.linspace(start=emitters_start_degree, stop=endpoint_angle, num=sinogram_height, endpoint=True)\n",
    "    \n",
    "    radian_angles = np.radians(angles)\n",
    "    radian_emitters_step = np.radians(emitters_step)\n",
    "    radian_spread = np.radians(detectors_spread)\n",
    "\n",
    "    sinogram = calculate_sinogram(sinogram_height, sinogram_width, input_image, radian_angles, radian_spread, detectors_amount)\n",
    "\n",
    "    output_image = calculate_output_image(sinogram_height, radian_angles, radian_spread, detectors_amount, sinogram)\n",
    "    \n",
    "    save_as_dicom(file_name, output_image, patient_data)\n",
    "    \n",
    "    rmse = calculate_rmse(input_image, output_image)\n",
    "    return rmse"
   ]
  },
  {
   "cell_type": "markdown",
   "metadata": {},
   "source": [
    "Calculate rmse with different detectors amount"
   ]
  },
  {
   "cell_type": "code",
   "execution_count": 28,
   "metadata": {
    "scrolled": true
   },
   "outputs": [
    {
     "data": {
      "text/plain": [
       "[0.32976556207412916,\n",
       " 0.39546829969269076,\n",
       " 0.35452905486328656,\n",
       " 0.39402269126519857,\n",
       " 0.432354849581432,\n",
       " 0.41078966279693396,\n",
       " 0.47111889051490513,\n",
       " 0.46107494342771266]"
      ]
     },
     "execution_count": 28,
     "metadata": {},
     "output_type": "execute_result"
    }
   ],
   "source": [
    "rmse_detectors_amount_y = []\n",
    "rmse_detectors_amount_x = range(90, 721, 90)\n",
    "for x in rmse_detectors_amount_x:\n",
    "    rmse = process_input_image(\"detectors_amount_\" + str(x) +\".dcm\", detectors_amount=x)\n",
    "    rmse_detectors_amount_y.append(rmse)\n",
    "rmse_detectors_amount_y"
   ]
  },
  {
   "cell_type": "markdown",
   "metadata": {},
   "source": [
    "Plot rmse with different detectors amount"
   ]
  },
  {
   "cell_type": "code",
   "execution_count": 29,
   "metadata": {
    "scrolled": true
   },
   "outputs": [
    {
     "data": {
      "text/plain": [
       "Text(0, 0.5, 'Wartość RMSE')"
      ]
     },
     "execution_count": 29,
     "metadata": {},
     "output_type": "execute_result"
    },
    {
     "data": {
      "image/png": "[encoded data removed]",
      "text/plain": [
       "<Figure size 432x288 with 1 Axes>"
      ]
     },
     "metadata": {
      "needs_background": "light"
     },
     "output_type": "display_data"
    }
   ],
   "source": [
    "fig = plt.figure()\n",
    "ax = fig.add_axes([0,0,1,1])\n",
    "ax.plot(rmse_detectors_amount_x, rmse_detectors_amount_y)\n",
    "ax.set_title(\"Wartość RMSE w zależności od liczby detektorów\")\n",
    "ax.set_xlabel(\"Liczba detektorów\")\n",
    "ax.set_ylabel(\"Wartość RMSE\")"
   ]
  },
  {
   "cell_type": "markdown",
   "metadata": {},
   "source": [
    "Calculate rmse with different emitters step amount"
   ]
  },
  {
   "cell_type": "code",
   "execution_count": 30,
   "metadata": {},
   "outputs": [
    {
     "data": {
      "text/plain": [
       "[0.3703023769566712,\n",
       " 0.39546829969269076,\n",
       " 0.4698126334674543,\n",
       " 0.4022218576753074,\n",
       " 0.4259849827445627,\n",
       " 0.5158426790678472,\n",
       " 0.4287402180684741,\n",
       " 0.5476203681544509]"
      ]
     },
     "execution_count": 30,
     "metadata": {},
     "output_type": "execute_result"
    }
   ],
   "source": [
    "rmse_emitters_step_y = []\n",
    "rmse_emitters_step_x = range(90, 721, 90)\n",
    "for x in rmse_emitters_step_x:\n",
    "    rmse = process_input_image(\"emitters_step_\" + str(x) +\".dcm\", emitters_step=360.0/x)\n",
    "    rmse_emitters_step_y.append(rmse)\n",
    "rmse_emitters_step_y"
   ]
  },
  {
   "cell_type": "markdown",
   "metadata": {},
   "source": [
    "Plot rmse with different emitters step"
   ]
  },
  {
   "cell_type": "code",
   "execution_count": 31,
   "metadata": {},
   "outputs": [
    {
     "data": {
      "text/plain": [
       "Text(0, 0.5, 'Wartość RMSE')"
      ]
     },
     "execution_count": 31,
     "metadata": {},
     "output_type": "execute_result"
    },
    {
     "data": {
      "image/png": "[encoded data removed]",
      "text/plain": [
       "<Figure size 432x288 with 1 Axes>"
      ]
     },
     "metadata": {
      "needs_background": "light"
     },
     "output_type": "display_data"
    }
   ],
   "source": [
    "fig = plt.figure()\n",
    "ax = fig.add_axes([0,0,1,1])\n",
    "ax.plot(rmse_emitters_step_x, rmse_emitters_step_y)\n",
    "ax.set_title(\"Wartość RMSE w zależności od liczby skanów\")\n",
    "ax.set_xlabel(\"Liczba skanów\")\n",
    "ax.set_ylabel(\"Wartość RMSE\")"
   ]
  },
  {
   "cell_type": "markdown",
   "metadata": {},
   "source": [
    "Calculate rmse with different detectors spread"
   ]
  },
  {
   "cell_type": "code",
   "execution_count": 32,
   "metadata": {},
   "outputs": [
    {
     "data": {
      "text/plain": [
       "[0.43778086002135475,\n",
       " 0.44915005191775553,\n",
       " 0.5372797499682848,\n",
       " 0.39546829969269076,\n",
       " 0.35666988293210805,\n",
       " 0.23907331802052711]"
      ]
     },
     "execution_count": 32,
     "metadata": {},
     "output_type": "execute_result"
    }
   ],
   "source": [
    "rmse_detectors_spread_y = []\n",
    "rmse_detectors_spread_x = range(45, 271, 45)\n",
    "for x in rmse_detectors_spread_x:\n",
    "    rmse = process_input_image(\"detectors_spread_\" + str(x) +\".dcm\", detectors_spread=x)\n",
    "    rmse_detectors_spread_y.append(rmse)\n",
    "rmse_detectors_spread_y"
   ]
  },
  {
   "cell_type": "markdown",
   "metadata": {},
   "source": [
    "Plot rmse with different detectors spread"
   ]
  },
  {
   "cell_type": "code",
   "execution_count": 33,
   "metadata": {},
   "outputs": [
    {
     "data": {
      "text/plain": [
       "Text(0, 0.5, 'Wartość RMSE')"
      ]
     },
     "execution_count": 33,
     "metadata": {},
     "output_type": "execute_result"
    },
    {
     "data": {
      "image/png": "[encoded data removed]",
      "text/plain": [
       "<Figure size 432x288 with 1 Axes>"
      ]
     },
     "metadata": {
      "needs_background": "light"
     },
     "output_type": "display_data"
    }
   ],
   "source": [
    "fig = plt.figure()\n",
    "ax = fig.add_axes([0,0,1,1])\n",
    "ax.plot(rmse_detectors_spread_x, rmse_detectors_spread_y)\n",
    "ax.set_title(\"Wartość RMSE w zależności od rozpiętości wachlarza\")\n",
    "ax.set_xlabel(\"Rozpiętość wachlarza\")\n",
    "ax.set_ylabel(\"Wartość RMSE\")"
   ]
  }
 ],
 "metadata": {
  "datalore": {
   "base_environment": "default",
   "computation_mode": "JUPYTER",
   "package_manager": "pip",
   "packages": [],
   "report_row_ids": [],
   "version": 2
  },
  "kernelspec": {
   "display_name": "Python 3 (ipykernel)",
   "language": "python",
   "name": "python3"
  },
  "language_info": {
   "codemirror_mode": {
    "name": "ipython",
    "version": 3
   },
   "file_extension": ".py",
   "mimetype": "text/x-python",
   "name": "python",
   "nbconvert_exporter": "python",
   "pygments_lexer": "ipython3",
   "version": "3.9.7"
  },
  "widgets": {
   "application/vnd.jupyter.widget-state+json": {
    "state": {
     "05af30b3199b4fc481fea4db830a9d17": {
      "model_module": "@jupyter-widgets/base",
      "model_module_version": "1.2.0",
      "model_name": "LayoutModel",
      "state": {}
     },
     "0848eb27937f40cfb73a91166a649ede": {
      "model_module": "@jupyter-widgets/base",
      "model_module_version": "1.2.0",
      "model_name": "LayoutModel",
      "state": {}
     },
     "22c72d3419164d7ba262ba9d35b4d41d": {
      "model_module": "@jupyter-widgets/output",
      "model_module_version": "1.0.0",
      "model_name": "OutputModel",
      "state": {
       "layout": "IPY_MODEL_0848eb27937f40cfb73a91166a649ede"
      }
     },
     "27209423cf0d400992d0acd7a16f4463": {
      "model_module": "@jupyter-widgets/base",
      "model_module_version": "1.2.0",
      "model_name": "LayoutModel",
      "state": {}
     },
     "3349631979674de28741d08d076d1cc0": {
      "model_module": "@jupyter-widgets/controls",
      "model_module_version": "1.5.0",
      "model_name": "FloatSliderModel",
      "state": {
       "description": "freq",
       "layout": "IPY_MODEL_779d83df803242519313cf847b275c28",
       "max": 3,
       "min": -1,
       "step": 0.1,
       "style": "IPY_MODEL_a8380ef09fa34b8da6f054ea51afa0bd",
       "value": 1
      }
     },
     "405807bb4daf4c1982c270ef23bdfead": {
      "model_module": "@jupyter-widgets/controls",
      "model_module_version": "1.5.0",
      "model_name": "IntSliderModel",
      "state": {
       "description": "radian_emitter_angles_max",
       "layout": "IPY_MODEL_c05b90de8c274607af6a956f4be1e349",
       "max": 60,
       "min": -20,
       "style": "IPY_MODEL_a615a2d7781b44e6a5a0fb8aa4c21cc8",
       "value": 20
      }
     },
     "4f5a223143ca430689918195dcbe4401": {
      "model_module": "@jupyter-widgets/base",
      "model_module_version": "1.2.0",
      "model_name": "LayoutModel",
      "state": {}
     },
     "4fb7dae4823948d380d23f0a5e3fb4ef": {
      "model_module": "@jupyter-widgets/output",
      "model_module_version": "1.0.0",
      "model_name": "OutputModel",
      "state": {
       "layout": "IPY_MODEL_cbdbc00b7507419f9336a47a168c2def"
      }
     },
     "643c3410e1724815bf546ca21850d993": {
      "model_module": "@jupyter-widgets/controls",
      "model_module_version": "1.5.0",
      "model_name": "FloatSliderModel",
      "state": {
       "description": "lw",
       "layout": "IPY_MODEL_4f5a223143ca430689918195dcbe4401",
       "max": 10,
       "min": 1,
       "step": 0.1,
       "style": "IPY_MODEL_7c7e48219e674ef589109dd34ef0cbd2",
       "value": 2
      }
     },
     "7448fe155f8d49bcab09c37d1f89abb0": {
      "model_module": "@jupyter-widgets/base",
      "model_module_version": "1.2.0",
      "model_name": "LayoutModel",
      "state": {}
     },
     "746c3606dfc44b919ef340844e0a9055": {
      "model_module": "@jupyter-widgets/controls",
      "model_module_version": "1.5.0",
      "model_name": "VBoxModel",
      "state": {
       "_dom_classes": [
        "widget-interact"
       ],
       "children": [
        "IPY_MODEL_aabdf28efad44c26b9da27c310372633",
        "IPY_MODEL_405807bb4daf4c1982c270ef23bdfead",
        "IPY_MODEL_22c72d3419164d7ba262ba9d35b4d41d"
       ],
       "layout": "IPY_MODEL_8d83d41f0cd942ec84905da92bd61118"
      }
     },
     "77074cdcdb6a460e93d1a7f052cb22ad": {
      "model_module": "@jupyter-widgets/controls",
      "model_module_version": "1.5.0",
      "model_name": "SliderStyleModel",
      "state": {
       "description_width": ""
      }
     },
     "779d83df803242519313cf847b275c28": {
      "model_module": "@jupyter-widgets/base",
      "model_module_version": "1.2.0",
      "model_name": "LayoutModel",
      "state": {}
     },
     "7c7e48219e674ef589109dd34ef0cbd2": {
      "model_module": "@jupyter-widgets/controls",
      "model_module_version": "1.5.0",
      "model_name": "SliderStyleModel",
      "state": {
       "description_width": ""
      }
     },
     "8339d62ff33547a59d208572eaf1ea0d": {
      "model_module": "@jupyter-widgets/controls",
      "model_module_version": "1.5.0",
      "model_name": "DescriptionStyleModel",
      "state": {
       "description_width": ""
      }
     },
     "8d83d41f0cd942ec84905da92bd61118": {
      "model_module": "@jupyter-widgets/base",
      "model_module_version": "1.2.0",
      "model_name": "LayoutModel",
      "state": {}
     },
     "a5221d8087c34f57a62c45d05e265308": {
      "model_module": "@jupyter-widgets/controls",
      "model_module_version": "1.5.0",
      "model_name": "VBoxModel",
      "state": {
       "_dom_classes": [
        "widget-interact"
       ],
       "children": [
        "IPY_MODEL_3349631979674de28741d08d076d1cc0",
        "IPY_MODEL_d43a46ae59864b7aa529ffc32de8b3f2",
        "IPY_MODEL_643c3410e1724815bf546ca21850d993",
        "IPY_MODEL_a60be628a9d84bd2a2d8e1b0855b69c5",
        "IPY_MODEL_4fb7dae4823948d380d23f0a5e3fb4ef"
       ],
       "layout": "IPY_MODEL_7448fe155f8d49bcab09c37d1f89abb0"
      }
     },
     "a60be628a9d84bd2a2d8e1b0855b69c5": {
      "model_module": "@jupyter-widgets/controls",
      "model_module_version": "1.5.0",
      "model_name": "CheckboxModel",
      "state": {
       "description": "grid",
       "disabled": false,
       "layout": "IPY_MODEL_27209423cf0d400992d0acd7a16f4463",
       "style": "IPY_MODEL_8339d62ff33547a59d208572eaf1ea0d",
       "value": true
      }
     },
     "a615a2d7781b44e6a5a0fb8aa4c21cc8": {
      "model_module": "@jupyter-widgets/controls",
      "model_module_version": "1.5.0",
      "model_name": "SliderStyleModel",
      "state": {
       "description_width": ""
      }
     },
     "a8380ef09fa34b8da6f054ea51afa0bd": {
      "model_module": "@jupyter-widgets/controls",
      "model_module_version": "1.5.0",
      "model_name": "SliderStyleModel",
      "state": {
       "description_width": ""
      }
     },
     "aabdf28efad44c26b9da27c310372633": {
      "model_module": "@jupyter-widgets/controls",
      "model_module_version": "1.5.0",
      "model_name": "IntSliderModel",
      "state": {
       "description": "radian_angles_max",
       "layout": "IPY_MODEL_edfb2fb1567f4c7e90ec5772e8dc7d40",
       "max": 159,
       "min": -53,
       "style": "IPY_MODEL_77074cdcdb6a460e93d1a7f052cb22ad",
       "value": 54
      }
     },
     "c05b90de8c274607af6a956f4be1e349": {
      "model_module": "@jupyter-widgets/base",
      "model_module_version": "1.2.0",
      "model_name": "LayoutModel",
      "state": {}
     },
     "cbdbc00b7507419f9336a47a168c2def": {
      "model_module": "@jupyter-widgets/base",
      "model_module_version": "1.2.0",
      "model_name": "LayoutModel",
      "state": {}
     },
     "d43a46ae59864b7aa529ffc32de8b3f2": {
      "model_module": "@jupyter-widgets/controls",
      "model_module_version": "1.5.0",
      "model_name": "DropdownModel",
      "state": {
       "_options_labels": [
        "blue",
        "red",
        "green"
       ],
       "description": "color",
       "index": 0,
       "layout": "IPY_MODEL_05af30b3199b4fc481fea4db830a9d17",
       "style": "IPY_MODEL_e62b6f0871004cf4a2930655ebdf8725"
      }
     },
     "e62b6f0871004cf4a2930655ebdf8725": {
      "model_module": "@jupyter-widgets/controls",
      "model_module_version": "1.5.0",
      "model_name": "DescriptionStyleModel",
      "state": {
       "description_width": ""
      }
     },
     "edfb2fb1567f4c7e90ec5772e8dc7d40": {
      "model_module": "@jupyter-widgets/base",
      "model_module_version": "1.2.0",
      "model_name": "LayoutModel",
      "state": {}
     }
    },
    "version_major": 2,
    "version_minor": 0
   }
  }
 },
 "nbformat": 4,
 "nbformat_minor": 4
}
